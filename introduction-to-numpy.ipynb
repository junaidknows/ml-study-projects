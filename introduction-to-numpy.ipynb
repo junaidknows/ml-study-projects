{
 "cells": [
  {
   "cell_type": "code",
   "execution_count": 1,
   "id": "5822a95f-b5a6-4d4e-966f-a22272bdeb44",
   "metadata": {},
   "outputs": [],
   "source": [
    "#To begin with, have to import numpy as np\n",
    "\n",
    "import numpy as np #np is short for numpy, it just saves us time to in commands"
   ]
  },
  {
   "cell_type": "markdown",
   "id": "e69877b2-ebc6-4aca-91ae-69649a77249c",
   "metadata": {},
   "source": [
    "## Introduction to Numpy DataTypes & Attributes\n",
    "- *Numpy main datatype is ndarray, everything you see in numpy is most likely ndarray* and it's called **N-Dimensional Array.**\n",
    "- An array is simply any list of numbers and N-dimensional means almost any shape we can think of."
   ]
  },
  {
   "cell_type": "code",
   "execution_count": 2,
   "id": "4dc9acd2-e72b-4790-819a-69305c4e72dd",
   "metadata": {},
   "outputs": [
    {
     "data": {
      "text/plain": [
       "array([1, 2, 3])"
      ]
     },
     "execution_count": 2,
     "metadata": {},
     "output_type": "execute_result"
    }
   ],
   "source": [
    "#Create first numpy array\n",
    "\n",
    "a1 = np.array([1, 2, 3])\n",
    "a1"
   ]
  },
  {
   "cell_type": "code",
   "execution_count": 3,
   "id": "824ba0f8-204f-41f1-a171-f60f4de37f72",
   "metadata": {},
   "outputs": [
    {
     "data": {
      "text/plain": [
       "numpy.ndarray"
      ]
     },
     "execution_count": 3,
     "metadata": {},
     "output_type": "execute_result"
    }
   ],
   "source": [
    "#Let's check it's datatype\n",
    "\n",
    "type(a1)"
   ]
  },
  {
   "cell_type": "code",
   "execution_count": 4,
   "id": "dfb98eb0-9781-4c4a-ae9f-c3787daece23",
   "metadata": {},
   "outputs": [],
   "source": [
    "#Create some more arrays\n",
    "\n",
    "a2 = np.array([[1, 2.0, 3.3],\n",
    "              [4.0, 5.0, 6.5]])\n",
    "\n",
    "a3 = np.array([[[1, 2, 3],\n",
    "                   [4, 5, 6],\n",
    "                   [7, 8, 9]],\n",
    "                  \n",
    "                  [[10, 11, 12],\n",
    "                   [13, 14, 15],\n",
    "                   [16, 17, 18]]])"
   ]
  },
  {
   "cell_type": "code",
   "execution_count": 5,
   "id": "eb2f598a-4999-426c-a9a8-874a5038ede8",
   "metadata": {},
   "outputs": [
    {
     "data": {
      "text/plain": [
       "array([[1. , 2. , 3.3],\n",
       "       [4. , 5. , 6.5]])"
      ]
     },
     "execution_count": 5,
     "metadata": {},
     "output_type": "execute_result"
    }
   ],
   "source": [
    "#Print a2 \n",
    "a2"
   ]
  },
  {
   "cell_type": "code",
   "execution_count": 6,
   "id": "7bcf36e6-b02d-48f7-83b0-216f701451f8",
   "metadata": {},
   "outputs": [
    {
     "data": {
      "text/plain": [
       "array([[[ 1,  2,  3],\n",
       "        [ 4,  5,  6],\n",
       "        [ 7,  8,  9]],\n",
       "\n",
       "       [[10, 11, 12],\n",
       "        [13, 14, 15],\n",
       "        [16, 17, 18]]])"
      ]
     },
     "execution_count": 6,
     "metadata": {},
     "output_type": "execute_result"
    }
   ],
   "source": [
    "#Print a3\n",
    "a3"
   ]
  },
  {
   "cell_type": "code",
   "execution_count": 7,
   "id": "0a1917ac-52a2-4996-a455-b19dfa4f267d",
   "metadata": {},
   "outputs": [
    {
     "data": {
      "text/plain": [
       "(3,)"
      ]
     },
     "execution_count": 7,
     "metadata": {},
     "output_type": "execute_result"
    }
   ],
   "source": [
    "# Some of the arributes, associated with Numpys, we can check the shapes for the arrays we performed before:\n",
    "\n",
    "a1.shape #it shows (3,) because it only shows column for this shape, since we only have one row. or sometimes (1,3)"
   ]
  },
  {
   "cell_type": "code",
   "execution_count": 8,
   "id": "55e37c38-4214-4d6f-9a04-79121743a524",
   "metadata": {},
   "outputs": [
    {
     "data": {
      "text/plain": [
       "(2, 3)"
      ]
     },
     "execution_count": 8,
     "metadata": {},
     "output_type": "execute_result"
    }
   ],
   "source": [
    "#Check the anatomy of a2\n",
    "a2.shape"
   ]
  },
  {
   "cell_type": "code",
   "execution_count": 9,
   "id": "a079a1db-eef1-4df2-98db-d1cb3ab7a0db",
   "metadata": {},
   "outputs": [
    {
     "data": {
      "text/plain": [
       "(2, 3, 3)"
      ]
     },
     "execution_count": 9,
     "metadata": {},
     "output_type": "execute_result"
    }
   ],
   "source": [
    "#check the anatomy of a3\n",
    "a3.shape"
   ]
  },
  {
   "cell_type": "code",
   "execution_count": 10,
   "id": "6af08bf3-44dd-47b0-ae26-bc267dce25c6",
   "metadata": {},
   "outputs": [
    {
     "data": {
      "text/plain": [
       "(1, 2, 3)"
      ]
     },
     "execution_count": 10,
     "metadata": {},
     "output_type": "execute_result"
    }
   ],
   "source": [
    "#Try number of dimensions, ndim stands for number of dimensions\n",
    "a1.ndim, a2.ndim, a3.ndim\n",
    "\n",
    "#Depending on how big our dta is, these dimensions keep growing"
   ]
  },
  {
   "cell_type": "code",
   "execution_count": 11,
   "id": "9b59f628-e03d-4bc0-aedf-129690a1ffce",
   "metadata": {},
   "outputs": [
    {
     "data": {
      "text/plain": [
       "(dtype('int64'), dtype('float64'), dtype('int64'))"
      ]
     },
     "execution_count": 11,
     "metadata": {},
     "output_type": "execute_result"
    }
   ],
   "source": [
    "#Find out the datatypes \n",
    "a1.dtype, a2.dtype, a3.dtype"
   ]
  },
  {
   "cell_type": "code",
   "execution_count": 12,
   "id": "60662e6a-692c-4251-8980-fac42cdaf5a3",
   "metadata": {},
   "outputs": [
    {
     "data": {
      "text/plain": [
       "(3, 6, 18)"
      ]
     },
     "execution_count": 12,
     "metadata": {},
     "output_type": "execute_result"
    }
   ],
   "source": [
    "a1.size, a2.size, a3.size #Size attribute tells how many many total elements we have got in our array"
   ]
  },
  {
   "cell_type": "code",
   "execution_count": 13,
   "id": "ee4fe0b6-35ad-4d05-a3ab-369a1ab6dbb8",
   "metadata": {},
   "outputs": [
    {
     "data": {
      "text/plain": [
       "(numpy.ndarray, numpy.ndarray, numpy.ndarray)"
      ]
     },
     "execution_count": 13,
     "metadata": {},
     "output_type": "execute_result"
    }
   ],
   "source": [
    "type(a1), type(a2), type(a3) #ndarray is universal datatype"
   ]
  },
  {
   "cell_type": "markdown",
   "id": "41de4892-4c3f-4750-88e5-1970d7957914",
   "metadata": {},
   "source": [
    "### Create a dataframe from *Numpy* array"
   ]
  },
  {
   "cell_type": "code",
   "execution_count": 14,
   "id": "f48ae678-93cb-4497-908b-d7c4122b7b2d",
   "metadata": {},
   "outputs": [
    {
     "data": {
      "text/html": [
       "<div>\n",
       "<style scoped>\n",
       "    .dataframe tbody tr th:only-of-type {\n",
       "        vertical-align: middle;\n",
       "    }\n",
       "\n",
       "    .dataframe tbody tr th {\n",
       "        vertical-align: top;\n",
       "    }\n",
       "\n",
       "    .dataframe thead th {\n",
       "        text-align: right;\n",
       "    }\n",
       "</style>\n",
       "<table border=\"1\" class=\"dataframe\">\n",
       "  <thead>\n",
       "    <tr style=\"text-align: right;\">\n",
       "      <th></th>\n",
       "      <th>0</th>\n",
       "      <th>1</th>\n",
       "      <th>2</th>\n",
       "    </tr>\n",
       "  </thead>\n",
       "  <tbody>\n",
       "    <tr>\n",
       "      <th>0</th>\n",
       "      <td>1.0</td>\n",
       "      <td>2.0</td>\n",
       "      <td>3.3</td>\n",
       "    </tr>\n",
       "    <tr>\n",
       "      <th>1</th>\n",
       "      <td>4.0</td>\n",
       "      <td>5.0</td>\n",
       "      <td>6.5</td>\n",
       "    </tr>\n",
       "  </tbody>\n",
       "</table>\n",
       "</div>"
      ],
      "text/plain": [
       "     0    1    2\n",
       "0  1.0  2.0  3.3\n",
       "1  4.0  5.0  6.5"
      ]
     },
     "execution_count": 14,
     "metadata": {},
     "output_type": "execute_result"
    }
   ],
   "source": [
    "#We will import panda library\n",
    "\n",
    "import pandas as pd\n",
    "\n",
    "df = pd.DataFrame(a2)\n",
    "df"
   ]
  },
  {
   "cell_type": "markdown",
   "id": "a0d18016-33f6-4426-a5dd-8a7d6fd806bd",
   "metadata": {},
   "source": [
    "## Create Numpy arrays"
   ]
  },
  {
   "cell_type": "code",
   "execution_count": 15,
   "id": "86a3eb3d-adf3-4ed5-8952-c880b6dc2761",
   "metadata": {},
   "outputs": [
    {
     "data": {
      "text/plain": [
       "array([1, 2, 3])"
      ]
     },
     "execution_count": 15,
     "metadata": {},
     "output_type": "execute_result"
    }
   ],
   "source": [
    "#1-Dimensional Numpy array\n",
    "sample_array = np.array([1, 2, 3])\n",
    "sample_array"
   ]
  },
  {
   "cell_type": "code",
   "execution_count": 16,
   "id": "f9e3ff9b-2c4f-4a88-a87b-3739ed4de880",
   "metadata": {},
   "outputs": [
    {
     "data": {
      "text/plain": [
       "dtype('int64')"
      ]
     },
     "execution_count": 16,
     "metadata": {},
     "output_type": "execute_result"
    }
   ],
   "source": [
    "sample_array.dtype"
   ]
  },
  {
   "cell_type": "code",
   "execution_count": 17,
   "id": "5c46e354-8374-4cea-b16d-b27d729bae1d",
   "metadata": {},
   "outputs": [],
   "source": [
    "ones = np.ones((1, 2, 3))"
   ]
  },
  {
   "cell_type": "code",
   "execution_count": 18,
   "id": "0056ddae-e5e0-4cf2-8a84-526e9ec1a75a",
   "metadata": {},
   "outputs": [
    {
     "data": {
      "text/plain": [
       "array([[[1., 1., 1.],\n",
       "        [1., 1., 1.]]])"
      ]
     },
     "execution_count": 18,
     "metadata": {},
     "output_type": "execute_result"
    }
   ],
   "source": [
    "ones"
   ]
  },
  {
   "cell_type": "markdown",
   "id": "8406d3d4-cc0f-4860-802c-138b88882b20",
   "metadata": {},
   "source": [
    "#### In Machine Learning, Zeros are kind of like a placeholder array:\n",
    "- In Machine Learning, sometimes we want to fill an array with some initial data or the data we don't know yet, so you create zeros to figure out the shapes of data we're working with."
   ]
  },
  {
   "cell_type": "code",
   "execution_count": 19,
   "id": "7821d616-b1eb-48be-87a0-dca7186f274d",
   "metadata": {},
   "outputs": [
    {
     "data": {
      "text/plain": [
       "array([[0., 0., 0.],\n",
       "       [0., 0., 0.]])"
      ]
     },
     "execution_count": 19,
     "metadata": {},
     "output_type": "execute_result"
    }
   ],
   "source": [
    "# We can try with np.zeros\n",
    "\n",
    "zeros = np.zeros((2, 3))\n",
    "zeros"
   ]
  },
  {
   "cell_type": "code",
   "execution_count": 20,
   "id": "22bb819a-58fa-4025-b11c-c295fca155ae",
   "metadata": {},
   "outputs": [
    {
     "data": {
      "text/plain": [
       "array([0, 2, 4, 6, 8])"
      ]
     },
     "execution_count": 20,
     "metadata": {},
     "output_type": "execute_result"
    }
   ],
   "source": [
    "#arange array: It will have start, stop and skip. For example code below, start at 0, finish at 10 but skip 2 for intervals\n",
    "\n",
    "range_array = np.arange(0, 10, 2)\n",
    "range_array"
   ]
  },
  {
   "cell_type": "code",
   "execution_count": 21,
   "id": "e9cedf2f-8017-43c3-9716-28a22b686283",
   "metadata": {},
   "outputs": [
    {
     "data": {
      "text/plain": [
       "array([[5, 6, 4, 8, 0],\n",
       "       [6, 1, 5, 1, 6],\n",
       "       [7, 8, 3, 0, 2]])"
      ]
     },
     "execution_count": 21,
     "metadata": {},
     "output_type": "execute_result"
    }
   ],
   "source": [
    "#Random. randtint array: If we don't know any numbers, and we want random fill in an array, we use random array:\n",
    "\n",
    "random_array = np.random.randint(0, 10, size=(3, 5))\n",
    "random_array"
   ]
  },
  {
   "cell_type": "code",
   "execution_count": 22,
   "id": "5af4ddac-588a-4028-97d2-63ce7e3b0298",
   "metadata": {},
   "outputs": [
    {
     "data": {
      "text/plain": [
       "15"
      ]
     },
     "execution_count": 22,
     "metadata": {},
     "output_type": "execute_result"
    }
   ],
   "source": [
    "#Let's check the size of our random array, which will give us number of elements in the array\n",
    "random_array.size"
   ]
  },
  {
   "cell_type": "code",
   "execution_count": 23,
   "id": "e2df3542-d673-4a13-8380-a6c300879974",
   "metadata": {},
   "outputs": [
    {
     "data": {
      "text/plain": [
       "(3, 5)"
      ]
     },
     "execution_count": 23,
     "metadata": {},
     "output_type": "execute_result"
    }
   ],
   "source": [
    "#We can check the shape of it, as we asked for 3 x 5 (which means 3 rows and 5 columns shape)\n",
    "random_array.shape"
   ]
  },
  {
   "cell_type": "code",
   "execution_count": 24,
   "id": "a15fc629-9620-4681-95fe-37d03854c2be",
   "metadata": {},
   "outputs": [
    {
     "data": {
      "text/plain": [
       "array([[0.17013086, 0.6690888 , 0.34860668],\n",
       "       [0.97992707, 0.4203773 , 0.82820189],\n",
       "       [0.27521165, 0.23794547, 0.31393065],\n",
       "       [0.92107891, 0.98269115, 0.26494194],\n",
       "       [0.88905157, 0.74547091, 0.75023811]])"
      ]
     },
     "execution_count": 24,
     "metadata": {},
     "output_type": "execute_result"
    }
   ],
   "source": [
    "#Totally random array .random\n",
    "\n",
    "random_array_2 = np.random.random((5, 3))\n",
    "random_array_2"
   ]
  },
  {
   "cell_type": "code",
   "execution_count": 25,
   "id": "e88f0bd0-de70-493b-b6a6-bd1011189698",
   "metadata": {},
   "outputs": [
    {
     "data": {
      "text/plain": [
       "(5, 3)"
      ]
     },
     "execution_count": 25,
     "metadata": {},
     "output_type": "execute_result"
    }
   ],
   "source": [
    "#Let's check the shape for random_array_2\n",
    "random_array_2.shape"
   ]
  },
  {
   "cell_type": "code",
   "execution_count": 26,
   "id": "1a0fa518-c53e-4767-8f87-f47fb8068cd2",
   "metadata": {},
   "outputs": [
    {
     "data": {
      "text/plain": [
       "array([[0.27723079, 0.70459381, 0.91733661],\n",
       "       [0.96282985, 0.62263914, 0.97616144],\n",
       "       [0.52944599, 0.74639163, 0.58455319],\n",
       "       [0.68622167, 0.8837196 , 0.65923188],\n",
       "       [0.49857092, 0.97499977, 0.92636784]])"
      ]
     },
     "execution_count": 26,
     "metadata": {},
     "output_type": "execute_result"
    }
   ],
   "source": [
    "#There's another random array which can sometimes get confusing in in Numpy, it's .rand() \n",
    "\n",
    "random_array_3 = np.random.rand(5, 3)\n",
    "random_array_3"
   ]
  },
  {
   "cell_type": "markdown",
   "id": "84a2073e-0aa7-4c8e-8107-229231dc18f6",
   "metadata": {},
   "source": [
    "### Let's create random seed: which are also known as Pseudo-random numbers. \n",
    "- When Numpy generates random numbers, it's actually suedo random numbers.\n",
    "- Through out our Machine learning journey, whereever we come across random numbers array, we will see\n",
    "```python\n",
    "np.random.seed()\n",
    "```\n",
    "Description about .seed():\n",
    "*The seed function in NumPy (np.random.seed()) is like setting a starting point for generating random numbers. Think of it as a recipe - if you use the same seed, you'll get the same sequence of random numbers every time.*"
   ]
  },
  {
   "cell_type": "code",
   "execution_count": 27,
   "id": "6df613b7-f059-429c-b4d0-5d7964b8edeb",
   "metadata": {},
   "outputs": [
    {
     "data": {
      "text/plain": [
       "array([[5, 8, 9],\n",
       "       [5, 0, 0],\n",
       "       [1, 7, 6],\n",
       "       [9, 2, 4],\n",
       "       [5, 2, 4]])"
      ]
     },
     "execution_count": 27,
     "metadata": {},
     "output_type": "execute_result"
    }
   ],
   "source": [
    "np.random.seed(seed=1) # seed = it could be any number from 0\n",
    "random_array_4 = np.random.randint(10, size=(5,3))\n",
    "random_array_4"
   ]
  },
  {
   "cell_type": "code",
   "execution_count": 28,
   "id": "b39e170c-6f04-4a8c-9260-a8b9579959aa",
   "metadata": {},
   "outputs": [
    {
     "data": {
      "text/plain": [
       "(5, 3)"
      ]
     },
     "execution_count": 28,
     "metadata": {},
     "output_type": "execute_result"
    }
   ],
   "source": [
    "#We can check the shape of random_array_4 and size parameter is actually the shape of our arrays\n",
    "random_array_4.shape"
   ]
  },
  {
   "cell_type": "code",
   "execution_count": 29,
   "id": "77c98082-bd61-47ac-9b36-013915b4cd63",
   "metadata": {},
   "outputs": [
    {
     "data": {
      "text/plain": [
       "array([[0.07630829, 0.77991879, 0.43840923],\n",
       "       [0.72346518, 0.97798951, 0.53849587],\n",
       "       [0.50112046, 0.07205113, 0.26843898],\n",
       "       [0.4998825 , 0.67923   , 0.80373904],\n",
       "       [0.38094113, 0.06593635, 0.2881456 ]])"
      ]
     },
     "execution_count": 29,
     "metadata": {},
     "output_type": "execute_result"
    }
   ],
   "source": [
    "#Another example with .seed()\n",
    "\n",
    "np.random.seed(7)\n",
    "random_array_5 = np.random.random((5, 3))\n",
    "random_array_5"
   ]
  },
  {
   "cell_type": "markdown",
   "id": "f8f1a4f5-bcc2-429f-8931-0cb286db272f",
   "metadata": {},
   "source": [
    "### Key Takeaways:\n",
    "- The number we see Numpy generating randomly are not actually random, they are Pseudo numbers"
   ]
  },
  {
   "cell_type": "code",
   "execution_count": 30,
   "id": "e3f25a54-f27b-486a-bd9e-d2f6cd6ff09b",
   "metadata": {},
   "outputs": [],
   "source": [
    "#If we don't have random.seed() in our code, in the backend, numbers are generating with random seeds."
   ]
  },
  {
   "cell_type": "markdown",
   "id": "a6182937-e2f1-4f43-8f3c-483d01986eb5",
   "metadata": {},
   "source": [
    "## Different ways of *Viewing arrays and Matrices* "
   ]
  },
  {
   "cell_type": "code",
   "execution_count": 31,
   "id": "ae8cf9cb-1e0b-4f7b-9434-bc815574299d",
   "metadata": {},
   "outputs": [
    {
     "data": {
      "text/plain": [
       "array([0, 1, 2, 4, 5, 6, 7, 8, 9])"
      ]
     },
     "execution_count": 31,
     "metadata": {},
     "output_type": "execute_result"
    }
   ],
   "source": [
    "# .unique() : Returns the sorted unique value.\n",
    "\n",
    "np.unique(random_array_4)"
   ]
  },
  {
   "cell_type": "code",
   "execution_count": 32,
   "id": "12b15b8e-7046-4d26-977a-df98f8df9773",
   "metadata": {},
   "outputs": [
    {
     "data": {
      "text/plain": [
       "array([1, 2, 3])"
      ]
     },
     "execution_count": 32,
     "metadata": {},
     "output_type": "execute_result"
    }
   ],
   "source": [
    "a1"
   ]
  },
  {
   "cell_type": "code",
   "execution_count": 33,
   "id": "0c5adcdb-2375-40b7-ac0d-cc94b765c01e",
   "metadata": {},
   "outputs": [
    {
     "data": {
      "text/plain": [
       "array([[1. , 2. , 3.3],\n",
       "       [4. , 5. , 6.5]])"
      ]
     },
     "execution_count": 33,
     "metadata": {},
     "output_type": "execute_result"
    }
   ],
   "source": [
    "a2"
   ]
  },
  {
   "cell_type": "code",
   "execution_count": 34,
   "id": "40540433-36e3-48b4-a24f-1195d460f49d",
   "metadata": {},
   "outputs": [
    {
     "data": {
      "text/plain": [
       "array([[[ 1,  2,  3],\n",
       "        [ 4,  5,  6],\n",
       "        [ 7,  8,  9]],\n",
       "\n",
       "       [[10, 11, 12],\n",
       "        [13, 14, 15],\n",
       "        [16, 17, 18]]])"
      ]
     },
     "execution_count": 34,
     "metadata": {},
     "output_type": "execute_result"
    }
   ],
   "source": [
    "a3"
   ]
  },
  {
   "cell_type": "code",
   "execution_count": 35,
   "id": "534a22c5-abae-4586-b80a-bf3f8f202cd4",
   "metadata": {},
   "outputs": [
    {
     "data": {
      "text/plain": [
       "array([[[[3, 5, 8, 8, 7],\n",
       "         [5, 0, 0, 2, 8],\n",
       "         [9, 6, 4, 9, 7],\n",
       "         [3, 3, 8, 3, 0]],\n",
       "\n",
       "        [[1, 0, 0, 6, 7],\n",
       "         [7, 9, 3, 0, 7],\n",
       "         [7, 7, 0, 5, 4],\n",
       "         [3, 1, 3, 1, 3]],\n",
       "\n",
       "        [[4, 3, 1, 9, 5],\n",
       "         [9, 1, 2, 3, 2],\n",
       "         [2, 5, 7, 3, 0],\n",
       "         [9, 9, 3, 4, 5]]],\n",
       "\n",
       "\n",
       "       [[[3, 0, 4, 8, 6],\n",
       "         [7, 2, 7, 3, 8],\n",
       "         [6, 6, 5, 6, 5],\n",
       "         [7, 1, 5, 4, 4]],\n",
       "\n",
       "        [[9, 9, 0, 6, 2],\n",
       "         [6, 8, 2, 4, 1],\n",
       "         [6, 1, 5, 1, 6],\n",
       "         [9, 8, 6, 5, 9]],\n",
       "\n",
       "        [[7, 5, 4, 9, 6],\n",
       "         [8, 1, 5, 5, 8],\n",
       "         [3, 7, 7, 9, 4],\n",
       "         [7, 5, 9, 6, 2]]]])"
      ]
     },
     "execution_count": 35,
     "metadata": {},
     "output_type": "execute_result"
    }
   ],
   "source": [
    "a4 = np.random.randint(10, size=(2, 3, 4, 5))\n",
    "a4"
   ]
  },
  {
   "cell_type": "code",
   "execution_count": 36,
   "id": "4265dd50-3b94-44bb-8ea6-b1ab8e2e8cdc",
   "metadata": {},
   "outputs": [
    {
     "data": {
      "text/plain": [
       "(2, 3, 4, 5)"
      ]
     },
     "execution_count": 36,
     "metadata": {},
     "output_type": "execute_result"
    }
   ],
   "source": [
    "a4.shape"
   ]
  },
  {
   "cell_type": "code",
   "execution_count": 37,
   "id": "a846546b-c7ad-46ca-b6ae-2ffd1f9fb47e",
   "metadata": {},
   "outputs": [
    {
     "data": {
      "text/plain": [
       "4"
      ]
     },
     "execution_count": 37,
     "metadata": {},
     "output_type": "execute_result"
    }
   ],
   "source": [
    "a4.ndim #number of dimensions"
   ]
  },
  {
   "cell_type": "code",
   "execution_count": 38,
   "id": "1ffee7d4-4a1a-49e5-8c0a-2758ea55de4e",
   "metadata": {},
   "outputs": [
    {
     "data": {
      "text/plain": [
       "array([[[[3, 5, 8, 8],\n",
       "         [5, 0, 0, 2],\n",
       "         [9, 6, 4, 9],\n",
       "         [3, 3, 8, 3]],\n",
       "\n",
       "        [[1, 0, 0, 6],\n",
       "         [7, 9, 3, 0],\n",
       "         [7, 7, 0, 5],\n",
       "         [3, 1, 3, 1]],\n",
       "\n",
       "        [[4, 3, 1, 9],\n",
       "         [9, 1, 2, 3],\n",
       "         [2, 5, 7, 3],\n",
       "         [9, 9, 3, 4]]],\n",
       "\n",
       "\n",
       "       [[[3, 0, 4, 8],\n",
       "         [7, 2, 7, 3],\n",
       "         [6, 6, 5, 6],\n",
       "         [7, 1, 5, 4]],\n",
       "\n",
       "        [[9, 9, 0, 6],\n",
       "         [6, 8, 2, 4],\n",
       "         [6, 1, 5, 1],\n",
       "         [9, 8, 6, 5]],\n",
       "\n",
       "        [[7, 5, 4, 9],\n",
       "         [8, 1, 5, 5],\n",
       "         [3, 7, 7, 9],\n",
       "         [7, 5, 9, 6]]]])"
      ]
     },
     "execution_count": 38,
     "metadata": {},
     "output_type": "execute_result"
    }
   ],
   "source": [
    "#Get the first four numbers of inner most arrays\n",
    "a4[:, :, :, :4]"
   ]
  },
  {
   "cell_type": "markdown",
   "id": "6e0ed163-d2ef-4b40-885a-9502e11a50e5",
   "metadata": {},
   "source": [
    "### Manipulating Arrays\n",
    "- **Arithmetic** : It's a fancy word for basic maths equations"
   ]
  },
  {
   "cell_type": "code",
   "execution_count": 39,
   "id": "90e3f985-c5fc-4760-95df-55f042718567",
   "metadata": {},
   "outputs": [
    {
     "data": {
      "text/plain": [
       "array([1, 2, 3])"
      ]
     },
     "execution_count": 39,
     "metadata": {},
     "output_type": "execute_result"
    }
   ],
   "source": [
    "a1"
   ]
  },
  {
   "cell_type": "code",
   "execution_count": 40,
   "id": "7ba00c7f-549a-409b-b6ec-40fd96153b93",
   "metadata": {},
   "outputs": [
    {
     "data": {
      "text/plain": [
       "array([1., 1., 1.])"
      ]
     },
     "execution_count": 40,
     "metadata": {},
     "output_type": "execute_result"
    }
   ],
   "source": [
    "ones = np.ones(3)\n",
    "ones"
   ]
  },
  {
   "cell_type": "code",
   "execution_count": 41,
   "id": "c6321a8d-aef4-4480-8f93-4caf14dc19ec",
   "metadata": {},
   "outputs": [
    {
     "data": {
      "text/plain": [
       "array([2., 3., 4.])"
      ]
     },
     "execution_count": 41,
     "metadata": {},
     "output_type": "execute_result"
    }
   ],
   "source": [
    "a1 + ones #Adding the 2 arrays"
   ]
  },
  {
   "cell_type": "code",
   "execution_count": 42,
   "id": "520282fa-38b1-4ee2-b2aa-f339a5ddedda",
   "metadata": {},
   "outputs": [
    {
     "data": {
      "text/plain": [
       "array([0., 1., 2.])"
      ]
     },
     "execution_count": 42,
     "metadata": {},
     "output_type": "execute_result"
    }
   ],
   "source": [
    "a1 - ones #Subtracting the 2 arrays"
   ]
  },
  {
   "cell_type": "code",
   "execution_count": 43,
   "id": "e4380ec8-9761-4dcb-9e01-fb670e44a017",
   "metadata": {},
   "outputs": [
    {
     "data": {
      "text/plain": [
       "array([1., 2., 3.])"
      ]
     },
     "execution_count": 43,
     "metadata": {},
     "output_type": "execute_result"
    }
   ],
   "source": [
    "a1 * ones #Multiply the 2 arrays"
   ]
  },
  {
   "cell_type": "code",
   "execution_count": 44,
   "id": "bb9824bd-70ac-4064-a265-d264748f2dcf",
   "metadata": {},
   "outputs": [
    {
     "data": {
      "text/plain": [
       "array([1, 2, 3])"
      ]
     },
     "execution_count": 44,
     "metadata": {},
     "output_type": "execute_result"
    }
   ],
   "source": [
    "a1"
   ]
  },
  {
   "cell_type": "code",
   "execution_count": 45,
   "id": "e405ed7c-2a83-4aa4-a3b0-c6d31ea97241",
   "metadata": {},
   "outputs": [
    {
     "data": {
      "text/plain": [
       "array([[1. , 2. , 3.3],\n",
       "       [4. , 5. , 6.5]])"
      ]
     },
     "execution_count": 45,
     "metadata": {},
     "output_type": "execute_result"
    }
   ],
   "source": [
    "a2"
   ]
  },
  {
   "cell_type": "code",
   "execution_count": 46,
   "id": "8dcccb62-1319-487f-bd9a-4c73788b9509",
   "metadata": {},
   "outputs": [
    {
     "data": {
      "text/plain": [
       "array([[ 1. ,  4. ,  9.9],\n",
       "       [ 4. , 10. , 19.5]])"
      ]
     },
     "execution_count": 46,
     "metadata": {},
     "output_type": "execute_result"
    }
   ],
   "source": [
    "a1 * a2 #Multiply"
   ]
  },
  {
   "cell_type": "code",
   "execution_count": 47,
   "id": "2405d182-e6d9-41a2-a79b-556238b7f338",
   "metadata": {},
   "outputs": [
    {
     "data": {
      "text/plain": [
       "array([[[ 1,  2,  3],\n",
       "        [ 4,  5,  6],\n",
       "        [ 7,  8,  9]],\n",
       "\n",
       "       [[10, 11, 12],\n",
       "        [13, 14, 15],\n",
       "        [16, 17, 18]]])"
      ]
     },
     "execution_count": 47,
     "metadata": {},
     "output_type": "execute_result"
    }
   ],
   "source": [
    "a3"
   ]
  },
  {
   "cell_type": "code",
   "execution_count": 48,
   "id": "65c21969-f09d-4526-85ca-0aca3a2c3767",
   "metadata": {},
   "outputs": [
    {
     "data": {
      "text/plain": [
       "array([[1. , 2. , 3.3],\n",
       "       [4. , 5. , 6.5]])"
      ]
     },
     "execution_count": 48,
     "metadata": {},
     "output_type": "execute_result"
    }
   ],
   "source": [
    "a2"
   ]
  },
  {
   "cell_type": "code",
   "execution_count": 49,
   "id": "33fec34a-dc95-4bec-aa65-cfa231d3ddf7",
   "metadata": {},
   "outputs": [
    {
     "data": {
      "text/plain": [
       "array([[[  1. ,   4. ,   9.9],\n",
       "        [  4. ,  10. ,  19.8],\n",
       "        [  7. ,  16. ,  29.7]],\n",
       "\n",
       "       [[ 40. ,  55. ,  78. ],\n",
       "        [ 52. ,  70. ,  97.5],\n",
       "        [ 64. ,  85. , 117. ]]])"
      ]
     },
     "execution_count": 49,
     "metadata": {},
     "output_type": "execute_result"
    }
   ],
   "source": [
    "# Reshape a2 to be (2,1,3) or (2,3,1)\n",
    "result = a2.reshape(2,1,3) * a3\n",
    "result"
   ]
  },
  {
   "cell_type": "markdown",
   "id": "e106298c-d34d-44af-800d-d64fda176aa8",
   "metadata": {},
   "source": [
    "### Performing some python arithemic functions"
   ]
  },
  {
   "cell_type": "code",
   "execution_count": 50,
   "id": "f03ff957-cc31-4c08-9056-7ccd0c23f306",
   "metadata": {},
   "outputs": [
    {
     "data": {
      "text/plain": [
       "array([1., 2., 3.])"
      ]
     },
     "execution_count": 50,
     "metadata": {},
     "output_type": "execute_result"
    }
   ],
   "source": [
    "a1 / ones #Division"
   ]
  },
  {
   "cell_type": "code",
   "execution_count": 51,
   "id": "6cfc3574-78cb-47b4-94c8-f96a6170ad46",
   "metadata": {},
   "outputs": [
    {
     "data": {
      "text/plain": [
       "array([[1.        , 1.        , 1.1       ],\n",
       "       [4.        , 2.5       , 2.16666667]])"
      ]
     },
     "execution_count": 51,
     "metadata": {},
     "output_type": "execute_result"
    }
   ],
   "source": [
    "a2 / a1 #division"
   ]
  },
  {
   "cell_type": "code",
   "execution_count": 52,
   "id": "4b883c65-429c-4799-a6a7-22655b3aa6cc",
   "metadata": {},
   "outputs": [
    {
     "data": {
      "text/plain": [
       "array([[1., 1., 1.],\n",
       "       [4., 2., 2.]])"
      ]
     },
     "execution_count": 52,
     "metadata": {},
     "output_type": "execute_result"
    }
   ],
   "source": [
    "a2 // a1 #double slash in python, is for floor division, it removes the decimals from the values (rounds down)"
   ]
  },
  {
   "cell_type": "code",
   "execution_count": 53,
   "id": "f28ea1b9-472f-4b16-b768-d9a269757344",
   "metadata": {},
   "outputs": [
    {
     "data": {
      "text/plain": [
       "array([[1. , 2. , 3.3],\n",
       "       [4. , 5. , 6.5]])"
      ]
     },
     "execution_count": 53,
     "metadata": {},
     "output_type": "execute_result"
    }
   ],
   "source": [
    "a2"
   ]
  },
  {
   "cell_type": "code",
   "execution_count": 54,
   "id": "70369fde-b59f-4d79-8755-ddf0db962358",
   "metadata": {},
   "outputs": [
    {
     "data": {
      "text/plain": [
       "array([[ 1.  ,  4.  , 10.89],\n",
       "       [16.  , 25.  , 42.25]])"
      ]
     },
     "execution_count": 54,
     "metadata": {},
     "output_type": "execute_result"
    }
   ],
   "source": [
    "a2 ** 2 # it's the power, power of a2 here is 2, that means a2 * a2"
   ]
  },
  {
   "cell_type": "markdown",
   "id": "1b9408a7-fa26-40db-9d3c-6d934caaafe1",
   "metadata": {},
   "source": [
    "### Numpy has it's own arithmetic methods, which one to use python or numpy, depends on our workflow"
   ]
  },
  {
   "cell_type": "code",
   "execution_count": 55,
   "id": "567be497-1db6-4db0-9e50-5ad0bc476657",
   "metadata": {},
   "outputs": [
    {
     "data": {
      "text/plain": [
       "array([[ 1.  ,  4.  , 10.89],\n",
       "       [16.  , 25.  , 42.25]])"
      ]
     },
     "execution_count": 55,
     "metadata": {},
     "output_type": "execute_result"
    }
   ],
   "source": [
    "np.square(a2)"
   ]
  },
  {
   "cell_type": "code",
   "execution_count": 56,
   "id": "65fe2360-d433-4749-a3b8-b984533b4890",
   "metadata": {},
   "outputs": [
    {
     "data": {
      "text/plain": [
       "array([2., 3., 4.])"
      ]
     },
     "execution_count": 56,
     "metadata": {},
     "output_type": "execute_result"
    }
   ],
   "source": [
    "np.add(a1, ones)"
   ]
  },
  {
   "cell_type": "code",
   "execution_count": 57,
   "id": "cd8e3f0c-595d-4fd4-a628-63dbb41a3a20",
   "metadata": {},
   "outputs": [
    {
     "data": {
      "text/plain": [
       "array([1, 0, 1])"
      ]
     },
     "execution_count": 57,
     "metadata": {},
     "output_type": "execute_result"
    }
   ],
   "source": [
    "#modulo in python, which show us the remainder\n",
    "a1 % 2"
   ]
  },
  {
   "cell_type": "code",
   "execution_count": 58,
   "id": "3b44b1bd-55e9-4e5f-98fc-2e3df23be1e1",
   "metadata": {},
   "outputs": [
    {
     "data": {
      "text/plain": [
       "array([0.5, 1. , 1.5])"
      ]
     },
     "execution_count": 58,
     "metadata": {},
     "output_type": "execute_result"
    }
   ],
   "source": [
    "a1 / 2"
   ]
  },
  {
   "cell_type": "code",
   "execution_count": 59,
   "id": "b95d6b6f-e81b-41c6-886f-5706e0cd6764",
   "metadata": {},
   "outputs": [
    {
     "data": {
      "text/plain": [
       "array([ 2.71828183,  7.3890561 , 20.08553692])"
      ]
     },
     "execution_count": 59,
     "metadata": {},
     "output_type": "execute_result"
    }
   ],
   "source": [
    "#it gives us the exponential of the values\n",
    "np.exp(a1) "
   ]
  },
  {
   "cell_type": "code",
   "execution_count": 60,
   "id": "3d812407-e8d8-4427-973e-d9336d2c6b87",
   "metadata": {},
   "outputs": [
    {
     "data": {
      "text/plain": [
       "array([[  2.71828183,   7.3890561 ,  27.11263892],\n",
       "       [ 54.59815003, 148.4131591 , 665.14163304]])"
      ]
     },
     "execution_count": 60,
     "metadata": {},
     "output_type": "execute_result"
    }
   ],
   "source": [
    "np.exp(a2)"
   ]
  },
  {
   "cell_type": "code",
   "execution_count": 61,
   "id": "bd5ab654-5d87-4497-8d62-91b2cc9dee16",
   "metadata": {},
   "outputs": [
    {
     "data": {
      "text/plain": [
       "array([0.        , 0.69314718, 1.09861229])"
      ]
     },
     "execution_count": 61,
     "metadata": {},
     "output_type": "execute_result"
    }
   ],
   "source": [
    "np.log(a1) #this help to see the log of an array, very useful in machine learning projects"
   ]
  },
  {
   "cell_type": "markdown",
   "id": "89f1a51b-87fb-46c0-9931-94bd6260e797",
   "metadata": {},
   "source": [
    "## Aggregation Functions\n",
    "Aggregation = performing the same operation on a number of things, in our case the number of things is our NumPy array."
   ]
  },
  {
   "cell_type": "code",
   "execution_count": 62,
   "id": "19dc1632-3e16-4bae-a336-8f4ef69af165",
   "metadata": {},
   "outputs": [
    {
     "data": {
      "text/plain": [
       "list"
      ]
     },
     "execution_count": 62,
     "metadata": {},
     "output_type": "execute_result"
    }
   ],
   "source": [
    "listy_list = [1, 2, 3]\n",
    "type(listy_list)"
   ]
  },
  {
   "cell_type": "code",
   "execution_count": 63,
   "id": "ef591313-6bce-4626-9e90-ab6cefa5f912",
   "metadata": {},
   "outputs": [
    {
     "data": {
      "text/plain": [
       "6"
      ]
     },
     "execution_count": 63,
     "metadata": {},
     "output_type": "execute_result"
    }
   ],
   "source": [
    "sum(listy_list)"
   ]
  },
  {
   "cell_type": "code",
   "execution_count": 64,
   "id": "302fb090-849a-4116-9632-e472b7ebf30b",
   "metadata": {},
   "outputs": [
    {
     "data": {
      "text/plain": [
       "np.int64(6)"
      ]
     },
     "execution_count": 64,
     "metadata": {},
     "output_type": "execute_result"
    }
   ],
   "source": [
    "#Let's experiment with our previous created variables\n",
    "\n",
    "sum(a1)"
   ]
  },
  {
   "cell_type": "code",
   "execution_count": 65,
   "id": "18394c9b-b10a-4b91-871b-d51c40deb8fe",
   "metadata": {},
   "outputs": [
    {
     "data": {
      "text/plain": [
       "np.int64(6)"
      ]
     },
     "execution_count": 65,
     "metadata": {},
     "output_type": "execute_result"
    }
   ],
   "source": [
    "np.sum(a1)"
   ]
  },
  {
   "cell_type": "markdown",
   "id": "3bfa5f2b-09e1-474b-85f5-8bf5a6fd531f",
   "metadata": {},
   "source": [
    "# Note: \n",
    "- *Use Python's methods on Python datatypes ```(sum())```*\n",
    "- *Use Numpy's methods on Numpy arrays ```(np.sum())```*"
   ]
  },
  {
   "cell_type": "code",
   "execution_count": 66,
   "id": "bb2710c1-0c88-409f-90d2-60f3fadf372c",
   "metadata": {},
   "outputs": [
    {
     "data": {
      "text/plain": [
       "100000"
      ]
     },
     "execution_count": 66,
     "metadata": {},
     "output_type": "execute_result"
    }
   ],
   "source": [
    "# Create a massive Numpy array\n",
    "massive_array = np.random.random(100000)\n",
    "massive_array.size"
   ]
  },
  {
   "cell_type": "code",
   "execution_count": 67,
   "id": "80fec234-10b5-428c-b6bf-6c27241e13b9",
   "metadata": {},
   "outputs": [
    {
     "data": {
      "text/plain": [
       "array([0.82845319, 0.94180927, 0.12814785, 0.23043067, 0.6591584 ,\n",
       "       0.13247399, 0.22407864, 0.57486259, 0.16952372, 0.78223015])"
      ]
     },
     "execution_count": 67,
     "metadata": {},
     "output_type": "execute_result"
    }
   ],
   "source": [
    "massive_array[:10]"
   ]
  },
  {
   "cell_type": "code",
   "execution_count": 68,
   "id": "2605c6ca-f09b-44f0-9ed2-16e59d840f72",
   "metadata": {},
   "outputs": [
    {
     "name": "stdout",
     "output_type": "stream",
     "text": [
      "3.48 ms ± 103 μs per loop (mean ± std. dev. of 7 runs, 100 loops each)\n",
      "15.5 μs ± 645 ns per loop (mean ± std. dev. of 7 runs, 100,000 loops each)\n"
     ]
    }
   ],
   "source": [
    "#Let's try a magic function of python: it has a little % sign at the start %timeit\n",
    "#timeit: it is going to time, how long a particular line of code takes to run\n",
    "\n",
    "%timeit sum(massive_array) #Python's sum()\n",
    "%timeit np.sum(massive_array) #Numpy's sum()"
   ]
  },
  {
   "cell_type": "code",
   "execution_count": 69,
   "id": "576646b6-af44-4ecb-a65d-c973cfd01444",
   "metadata": {},
   "outputs": [
    {
     "data": {
      "text/plain": [
       "244.11764705882354"
      ]
     },
     "execution_count": 69,
     "metadata": {},
     "output_type": "execute_result"
    }
   ],
   "source": [
    "3320 / 13.6 #We converted 3.32 milliseconds to 3320 microseconds and then divided by 13.6 microsecond, which was the speed of Numpy"
   ]
  },
  {
   "cell_type": "markdown",
   "id": "53f2be05-44cb-482e-89e5-7487b99be346",
   "metadata": {},
   "source": [
    "*According to the results above, it shows the speed difference, NumPy is 244 times faster than Python*"
   ]
  },
  {
   "cell_type": "code",
   "execution_count": 70,
   "id": "3544a917-dbd3-4595-8148-d4a6cda2df1b",
   "metadata": {},
   "outputs": [
    {
     "data": {
      "text/plain": [
       "array([[1. , 2. , 3.3],\n",
       "       [4. , 5. , 6.5]])"
      ]
     },
     "execution_count": 70,
     "metadata": {},
     "output_type": "execute_result"
    }
   ],
   "source": [
    "a2"
   ]
  },
  {
   "cell_type": "code",
   "execution_count": 71,
   "id": "20440b87-b6fe-4039-9f71-cc7151de6c50",
   "metadata": {},
   "outputs": [
    {
     "data": {
      "text/plain": [
       "np.float64(3.6333333333333333)"
      ]
     },
     "execution_count": 71,
     "metadata": {},
     "output_type": "execute_result"
    }
   ],
   "source": [
    "#let's find the mean of this a2 array\n",
    "np.mean(a2)"
   ]
  },
  {
   "cell_type": "code",
   "execution_count": 72,
   "id": "646d44ba-516c-4ba9-80c0-36c676eb7367",
   "metadata": {},
   "outputs": [
    {
     "data": {
      "text/plain": [
       "np.float64(6.5)"
      ]
     },
     "execution_count": 72,
     "metadata": {},
     "output_type": "execute_result"
    }
   ],
   "source": [
    "#let's find the max of a2 array\n",
    "np.max(a2)"
   ]
  },
  {
   "cell_type": "code",
   "execution_count": 73,
   "id": "29d9ad53-ebe4-4735-a92a-92737ff85d2e",
   "metadata": {},
   "outputs": [
    {
     "data": {
      "text/plain": [
       "np.float64(1.0)"
      ]
     },
     "execution_count": 73,
     "metadata": {},
     "output_type": "execute_result"
    }
   ],
   "source": [
    "#let's find the min of a2 array\n",
    "np.min(a2)"
   ]
  },
  {
   "cell_type": "code",
   "execution_count": 74,
   "id": "75d4fc02-f72d-425a-b0ab-978fdff88a69",
   "metadata": {},
   "outputs": [
    {
     "data": {
      "text/plain": [
       "np.float64(1.8226964152656422)"
      ]
     },
     "execution_count": 74,
     "metadata": {},
     "output_type": "execute_result"
    }
   ],
   "source": [
    "# We can do standard deviation\n",
    "# Standard deviation = a measure of how spread out a group of numbers is from the mean.\n",
    "# Standard deviation is actually the square root of the variance\n",
    "np.std(a2)"
   ]
  },
  {
   "cell_type": "code",
   "execution_count": 75,
   "id": "96bb6887-1556-4bf3-a8de-08d804d85851",
   "metadata": {},
   "outputs": [
    {
     "data": {
      "text/plain": [
       "np.float64(3.3222222222222224)"
      ]
     },
     "execution_count": 75,
     "metadata": {},
     "output_type": "execute_result"
    }
   ],
   "source": [
    "# We can also do the variance\n",
    "# Variance = measure of the average degree to which each number is different to the mean.\n",
    "# Higher variance = wider range of numbers\n",
    "# Lower variance = lower range of numbers\n",
    "np.var(a2)"
   ]
  },
  {
   "cell_type": "code",
   "execution_count": 76,
   "id": "4f8eb22d-6f4f-48e4-bdf6-9bda723b3b77",
   "metadata": {},
   "outputs": [
    {
     "data": {
      "text/plain": [
       "np.float64(1.8226964152656422)"
      ]
     },
     "execution_count": 76,
     "metadata": {},
     "output_type": "execute_result"
    }
   ],
   "source": [
    "# Standard deviation = square root of variance\n",
    "np.sqrt(np.var(a2))"
   ]
  },
  {
   "cell_type": "markdown",
   "id": "aee4da4f-b88d-47e1-816f-1f4319ed229a",
   "metadata": {},
   "source": [
    "### Standard Deviation and Variance"
   ]
  },
  {
   "cell_type": "code",
   "execution_count": 77,
   "id": "46f3a5b6-5290-465e-aca3-65234f5d0ae9",
   "metadata": {},
   "outputs": [],
   "source": [
    "# Demo of std and var\n",
    "high_var_array = np.array([1, 100, 200, 300, 4000, 5000])\n",
    "low_var_array = np.array([2, 4, 6, 8, 10])"
   ]
  },
  {
   "cell_type": "code",
   "execution_count": 78,
   "id": "01e5e4ee-7c50-4de8-8328-5dd0b9a7b686",
   "metadata": {},
   "outputs": [
    {
     "data": {
      "text/plain": [
       "(np.float64(4296133.472222221), np.float64(8.0))"
      ]
     },
     "execution_count": 78,
     "metadata": {},
     "output_type": "execute_result"
    }
   ],
   "source": [
    "#Lets find the variance of both of the values above\n",
    "np.var(high_var_array), np.var(low_var_array)"
   ]
  },
  {
   "cell_type": "code",
   "execution_count": 79,
   "id": "f37a0f4f-89da-4718-a097-f8441c7dcda7",
   "metadata": {},
   "outputs": [
    {
     "data": {
      "text/plain": [
       "(np.float64(2072.711623024829), np.float64(2.8284271247461903))"
      ]
     },
     "execution_count": 79,
     "metadata": {},
     "output_type": "execute_result"
    }
   ],
   "source": [
    "#Let's try similar thing with standard deviation .std\n",
    "np.std(high_var_array), np.std(low_var_array)"
   ]
  },
  {
   "cell_type": "code",
   "execution_count": 80,
   "id": "1cb72c56-a89a-421f-9060-705ade67fc76",
   "metadata": {},
   "outputs": [
    {
     "data": {
      "text/plain": [
       "(np.float64(1600.1666666666667), np.float64(6.0))"
      ]
     },
     "execution_count": 80,
     "metadata": {},
     "output_type": "execute_result"
    }
   ],
   "source": [
    "#Let's find out the mean since they both have mean in their definitions\n",
    "np.mean(high_var_array), np.mean(low_var_array)"
   ]
  },
  {
   "cell_type": "code",
   "execution_count": 81,
   "id": "a0434f33-25f1-410a-8af5-a02bf7c09329",
   "metadata": {},
   "outputs": [],
   "source": [
    "import matplotlib.pyplot as plt"
   ]
  },
  {
   "cell_type": "code",
   "execution_count": 82,
   "id": "b4cd8554-0bac-48d6-83bf-919505f08f7a",
   "metadata": {},
   "outputs": [
    {
     "data": {
      "image/png": "[encoded data removed]",
      "text/plain": [
       "<Figure size 640x480 with 1 Axes>"
      ]
     },
     "metadata": {},
     "output_type": "display_data"
    }
   ],
   "source": [
    "plt.hist(high_var_array)\n",
    "plt.show()"
   ]
  },
  {
   "cell_type": "code",
   "execution_count": 83,
   "id": "8fe4ba09-6e4b-4b3b-9318-468ca69b54b9",
   "metadata": {},
   "outputs": [
    {
     "data": {
      "image/png": "[encoded data removed]",
      "text/plain": [
       "<Figure size 640x480 with 1 Axes>"
      ]
     },
     "metadata": {},
     "output_type": "display_data"
    }
   ],
   "source": [
    "plt.hist(low_var_array)\n",
    "plt.show()"
   ]
  },
  {
   "cell_type": "markdown",
   "id": "dadf75c6-74fd-4c34-9261-65eede184c70",
   "metadata": {},
   "source": [
    "### Reshape and Transpose"
   ]
  },
  {
   "cell_type": "code",
   "execution_count": 84,
   "id": "47edf5ab-67b3-4262-baf9-0acaa8f4faac",
   "metadata": {},
   "outputs": [
    {
     "data": {
      "text/plain": [
       "array([[1. , 2. , 3.3],\n",
       "       [4. , 5. , 6.5]])"
      ]
     },
     "execution_count": 84,
     "metadata": {},
     "output_type": "execute_result"
    }
   ],
   "source": [
    "a2"
   ]
  },
  {
   "cell_type": "code",
   "execution_count": 85,
   "id": "08c627c2-2e8c-486b-bd0b-6ebb1b57dc5d",
   "metadata": {},
   "outputs": [
    {
     "data": {
      "text/plain": [
       "(2, 3)"
      ]
     },
     "execution_count": 85,
     "metadata": {},
     "output_type": "execute_result"
    }
   ],
   "source": [
    "a2.shape"
   ]
  },
  {
   "cell_type": "code",
   "execution_count": 86,
   "id": "76b8a591-4c46-4589-bb53-0f16b5f3a007",
   "metadata": {},
   "outputs": [
    {
     "data": {
      "text/plain": [
       "array([[[ 1,  2,  3],\n",
       "        [ 4,  5,  6],\n",
       "        [ 7,  8,  9]],\n",
       "\n",
       "       [[10, 11, 12],\n",
       "        [13, 14, 15],\n",
       "        [16, 17, 18]]])"
      ]
     },
     "execution_count": 86,
     "metadata": {},
     "output_type": "execute_result"
    }
   ],
   "source": [
    "a3"
   ]
  },
  {
   "cell_type": "code",
   "execution_count": 87,
   "id": "8122f06b-efc2-4829-a0c9-18cb1ff7c879",
   "metadata": {},
   "outputs": [
    {
     "data": {
      "text/plain": [
       "(2, 3, 3)"
      ]
     },
     "execution_count": 87,
     "metadata": {},
     "output_type": "execute_result"
    }
   ],
   "source": [
    "a3.shape"
   ]
  },
  {
   "cell_type": "code",
   "execution_count": 88,
   "id": "ac3a60dc-5a0c-4dac-b8e0-79bcdc7eeda6",
   "metadata": {},
   "outputs": [
    {
     "data": {
      "text/plain": [
       "array([[[1. ],\n",
       "        [2. ],\n",
       "        [3.3]],\n",
       "\n",
       "       [[4. ],\n",
       "        [5. ],\n",
       "        [6.5]]])"
      ]
     },
     "execution_count": 88,
     "metadata": {},
     "output_type": "execute_result"
    }
   ],
   "source": [
    "#Previously we tried to multiply a2 * a3, but it resulted in an error because both arrays are in different shapes\n",
    "#Now, we will convert the shapes to make this calculation work\n",
    "#General rule of broadcasting in Numpy is: In each dimension, sizes must either: Be exactly the same, or\n",
    "# One of them must be 1 (then it gets \"stretched\" to match the other)\n",
    "\n",
    "a2.reshape(2, 3, 1) #it shuffles around a bit, we can fix it in next step by finding it's shape"
   ]
  },
  {
   "cell_type": "code",
   "execution_count": 89,
   "id": "b103f794-5860-45cc-a35b-5f524be2015e",
   "metadata": {},
   "outputs": [
    {
     "data": {
      "text/plain": [
       "(2, 3, 1)"
      ]
     },
     "execution_count": 89,
     "metadata": {},
     "output_type": "execute_result"
    }
   ],
   "source": [
    "a2_reshape = a2.reshape(2,3,1).shape\n",
    "a2_reshape"
   ]
  },
  {
   "cell_type": "code",
   "execution_count": 90,
   "id": "f9d061ac-b4b6-4d1b-9acb-45e2fe37c491",
   "metadata": {},
   "outputs": [
    {
     "data": {
      "text/plain": [
       "array([[[ 2,  6,  3],\n",
       "        [ 8, 15,  6],\n",
       "        [14, 24,  9]],\n",
       "\n",
       "       [[20, 33, 12],\n",
       "        [26, 42, 15],\n",
       "        [32, 51, 18]]])"
      ]
     },
     "execution_count": 90,
     "metadata": {},
     "output_type": "execute_result"
    }
   ],
   "source": [
    "#Perfect! now we can try a2_reshape to multiply with a3\n",
    "a2_reshape * a3"
   ]
  },
  {
   "cell_type": "markdown",
   "id": "84462e91-92cf-412f-bd2d-8f2ad7c66184",
   "metadata": {},
   "source": [
    "### Key Takeaway:\n",
    "- We don't have to stick to Numpy's default shapes\n",
    "- We can always convert the shapes according to our data\n",
    "- Because the reshape will still contain the same information as we performed this in previous step\n",
    "- *It's one of the common problems in **Machine learning** problems, we have to make sure that the data we're trying to find patterns within is the same shape.*\n",
    "\n",
    "***Note:*** So the machine learning algorithm works over it, like this broadcasting operation as quickly as possible."
   ]
  },
  {
   "cell_type": "markdown",
   "id": "abf2cb30-def0-4875-ad5b-8b414b46ae8f",
   "metadata": {},
   "source": [
    "### Tranpose"
   ]
  },
  {
   "cell_type": "code",
   "execution_count": 91,
   "id": "324c4f48-c79f-474c-99ae-7d0773579020",
   "metadata": {},
   "outputs": [
    {
     "data": {
      "text/plain": [
       "array([[1. , 2. , 3.3],\n",
       "       [4. , 5. , 6.5]])"
      ]
     },
     "execution_count": 91,
     "metadata": {},
     "output_type": "execute_result"
    }
   ],
   "source": [
    "a2"
   ]
  },
  {
   "cell_type": "code",
   "execution_count": 92,
   "id": "084d216f-a19b-4a8f-a0c3-b53284281915",
   "metadata": {},
   "outputs": [
    {
     "data": {
      "text/plain": [
       "(2, 3)"
      ]
     },
     "execution_count": 92,
     "metadata": {},
     "output_type": "execute_result"
    }
   ],
   "source": [
    "a2.shape"
   ]
  },
  {
   "cell_type": "code",
   "execution_count": 93,
   "id": "10cd62e2-4921-4c58-a00d-b0a1bbc743ae",
   "metadata": {},
   "outputs": [
    {
     "data": {
      "text/plain": [
       "array([[1. , 4. ],\n",
       "       [2. , 5. ],\n",
       "       [3.3, 6.5]])"
      ]
     },
     "execution_count": 93,
     "metadata": {},
     "output_type": "execute_result"
    }
   ],
   "source": [
    "#Transpose = it switches the axis'\n",
    "\n",
    "a2.T"
   ]
  },
  {
   "cell_type": "code",
   "execution_count": 94,
   "id": "8cc0c7ce-78b3-4e3b-b041-97cf45652f1d",
   "metadata": {},
   "outputs": [
    {
     "data": {
      "text/plain": [
       "(3, 2)"
      ]
     },
     "execution_count": 94,
     "metadata": {},
     "output_type": "execute_result"
    }
   ],
   "source": [
    "a2.T.shape"
   ]
  },
  {
   "cell_type": "code",
   "execution_count": 95,
   "id": "c856e238-419e-4c6f-9bab-dedd3cca0e83",
   "metadata": {},
   "outputs": [],
   "source": [
    "#It swaps the axis around, that's what we can see in this example above."
   ]
  },
  {
   "cell_type": "code",
   "execution_count": 96,
   "id": "a12f7334-210c-4d7b-826a-252a00d43a77",
   "metadata": {},
   "outputs": [
    {
     "data": {
      "text/plain": [
       "array([[[ 1,  2,  3],\n",
       "        [ 4,  5,  6],\n",
       "        [ 7,  8,  9]],\n",
       "\n",
       "       [[10, 11, 12],\n",
       "        [13, 14, 15],\n",
       "        [16, 17, 18]]])"
      ]
     },
     "execution_count": 96,
     "metadata": {},
     "output_type": "execute_result"
    }
   ],
   "source": [
    "#Let's try this on a larger array:\n",
    "\n",
    "a3"
   ]
  },
  {
   "cell_type": "code",
   "execution_count": 97,
   "id": "c9f5da25-39da-4091-9216-2e4e5261268f",
   "metadata": {},
   "outputs": [
    {
     "data": {
      "text/plain": [
       "(2, 3, 3)"
      ]
     },
     "execution_count": 97,
     "metadata": {},
     "output_type": "execute_result"
    }
   ],
   "source": [
    "#a3 current shape\n",
    "\n",
    "a3.shape"
   ]
  },
  {
   "cell_type": "code",
   "execution_count": 98,
   "id": "bd885427-d02c-4cdd-9ee7-38997c7c1949",
   "metadata": {},
   "outputs": [
    {
     "data": {
      "text/plain": [
       "array([[[ 1, 10],\n",
       "        [ 4, 13],\n",
       "        [ 7, 16]],\n",
       "\n",
       "       [[ 2, 11],\n",
       "        [ 5, 14],\n",
       "        [ 8, 17]],\n",
       "\n",
       "       [[ 3, 12],\n",
       "        [ 6, 15],\n",
       "        [ 9, 18]]])"
      ]
     },
     "execution_count": 98,
     "metadata": {},
     "output_type": "execute_result"
    }
   ],
   "source": [
    "#Applying transpose to a3, it will swap the positions of the elements\n",
    "a3.T"
   ]
  },
  {
   "cell_type": "code",
   "execution_count": 99,
   "id": "328a4e01-6b27-47de-b80a-9e2a3b27eb08",
   "metadata": {},
   "outputs": [
    {
     "data": {
      "text/plain": [
       "(3, 3, 2)"
      ]
     },
     "execution_count": 99,
     "metadata": {},
     "output_type": "execute_result"
    }
   ],
   "source": [
    "#let's try the shape of a3 now, it will flip it, we can compare it with previous shape\n",
    "a3.T.shape"
   ]
  },
  {
   "cell_type": "markdown",
   "id": "5822bbfa-dba2-4c78-8fb5-8c30e1c3e53b",
   "metadata": {},
   "source": [
    "## Dot Product vs Element Wise"
   ]
  },
  {
   "cell_type": "markdown",
   "id": "ed2b0413-47ec-4d28-8053-ea5e7c52652f",
   "metadata": {},
   "source": [
    "![Dot-product-vs-element-wise](difference-btw-element-wise-vs-dot-product.png)"
   ]
  },
  {
   "cell_type": "markdown",
   "id": "22d69a23-1a60-4b06-bbd8-4affc7e47ee7",
   "metadata": {},
   "source": [
    "![Dot-product-colour-demostration](dot-product-further-demostration.png)"
   ]
  },
  {
   "cell_type": "markdown",
   "id": "093b13c4-9c05-4bac-810b-f7bcfe631128",
   "metadata": {},
   "source": [
    "### Rule for the dot product\n",
    "- For a dot product to happen between two metrices their dimesions, if you put them side by side, so the 3 matches the 3 as shown in the image above.\n",
    "- Inside numbers must match for a dot product "
   ]
  },
  {
   "cell_type": "code",
   "execution_count": 100,
   "id": "333fa638-0dc4-4b9a-9fdc-fd4bfc127125",
   "metadata": {},
   "outputs": [],
   "source": [
    "# Dot product: A dot product is another way of finding paterns between 2 different sets of numbers.\n",
    "\n",
    "np.random.seed(0)\n",
    "mat1 = np.random.randint(10, size = (5, 3))\n",
    "mat2 = np.random.randint(10, size = (5, 3))"
   ]
  },
  {
   "cell_type": "code",
   "execution_count": 101,
   "id": "3fa08f0a-1b01-495f-a815-58a9317a476c",
   "metadata": {},
   "outputs": [
    {
     "data": {
      "text/plain": [
       "array([[5, 0, 3],\n",
       "       [3, 7, 9],\n",
       "       [3, 5, 2],\n",
       "       [4, 7, 6],\n",
       "       [8, 8, 1]])"
      ]
     },
     "execution_count": 101,
     "metadata": {},
     "output_type": "execute_result"
    }
   ],
   "source": [
    "mat1"
   ]
  },
  {
   "cell_type": "code",
   "execution_count": 102,
   "id": "2e66d048-fa74-4da4-bdde-9bac3fc2c96c",
   "metadata": {},
   "outputs": [
    {
     "data": {
      "text/plain": [
       "array([[6, 7, 7],\n",
       "       [8, 1, 5],\n",
       "       [9, 8, 9],\n",
       "       [4, 3, 0],\n",
       "       [3, 5, 0]])"
      ]
     },
     "execution_count": 102,
     "metadata": {},
     "output_type": "execute_result"
    }
   ],
   "source": [
    "mat2"
   ]
  },
  {
   "cell_type": "code",
   "execution_count": 103,
   "id": "12fa80f4-7c22-465c-bcf3-e3dc5a66fea9",
   "metadata": {},
   "outputs": [
    {
     "data": {
      "text/plain": [
       "((5, 3), (5, 3))"
      ]
     },
     "execution_count": 103,
     "metadata": {},
     "output_type": "execute_result"
    }
   ],
   "source": [
    "#Let's check their shapes\n",
    "mat1.shape, mat2.shape"
   ]
  },
  {
   "cell_type": "code",
   "execution_count": 104,
   "id": "5fe11c3c-6019-493f-95bd-b9afc983347a",
   "metadata": {},
   "outputs": [
    {
     "data": {
      "text/plain": [
       "array([[30,  0, 21],\n",
       "       [24,  7, 45],\n",
       "       [27, 40, 18],\n",
       "       [16, 21,  0],\n",
       "       [24, 40,  0]])"
      ]
     },
     "execution_count": 104,
     "metadata": {},
     "output_type": "execute_result"
    }
   ],
   "source": [
    "#They both are in same shapes, we can perform arithemetic function by multiplying both of arrays\n",
    "\n",
    "# Element-wise multiplication (also known as Hadamard product)\n",
    "mat1 * mat2"
   ]
  },
  {
   "cell_type": "code",
   "execution_count": 105,
   "id": "6ddd4a08-190c-4d88-b7ec-04f52293e0b8",
   "metadata": {},
   "outputs": [
    {
     "ename": "ValueError",
     "evalue": "shapes (5,3) and (5,3) not aligned: 3 (dim 1) != 5 (dim 0)",
     "output_type": "error",
     "traceback": [
      "\u001b[0;31m---------------------------------------------------------------------------\u001b[0m",
      "\u001b[0;31mValueError\u001b[0m                                Traceback (most recent call last)",
      "Cell \u001b[0;32mIn[105], line 5\u001b[0m\n\u001b[1;32m      1\u001b[0m \u001b[38;5;66;03m# Dot Product\u001b[39;00m\n\u001b[1;32m      2\u001b[0m \u001b[38;5;66;03m# Another form of multiplication or product between two matrices is the dot product.\u001b[39;00m\n\u001b[1;32m      3\u001b[0m \u001b[38;5;66;03m#numpy.dot or np.dot (formula)\u001b[39;00m\n\u001b[0;32m----> 5\u001b[0m np\u001b[38;5;241m.\u001b[39mdot(mat1, mat2)\n",
      "\u001b[0;31mValueError\u001b[0m: shapes (5,3) and (5,3) not aligned: 3 (dim 1) != 5 (dim 0)"
     ]
    }
   ],
   "source": [
    "# Dot Product\n",
    "# Another form of multiplication or product between two matrices is the dot product.\n",
    "#numpy.dot or np.dot (formula)\n",
    "\n",
    "np.dot(mat1, mat2)"
   ]
  },
  {
   "cell_type": "code",
   "execution_count": 106,
   "id": "99211692-2074-433b-a832-c45acaec8449",
   "metadata": {},
   "outputs": [
    {
     "data": {
      "text/plain": [
       "((5, 3), (3, 5))"
      ]
     },
     "execution_count": 106,
     "metadata": {},
     "output_type": "execute_result"
    }
   ],
   "source": [
    "#The above error shows that the shapes are same but not aligned properly, let's try transpose to flip it and try again\n",
    "\n",
    "mat1.shape, mat2.T.shape #Flipped the sides"
   ]
  },
  {
   "cell_type": "code",
   "execution_count": 107,
   "id": "d6636aa2-e3b5-462d-bba5-b34c6aefbcfe",
   "metadata": {},
   "outputs": [
    {
     "data": {
      "text/plain": [
       "array([[ 51,  55,  72,  20,  15],\n",
       "       [130,  76, 164,  33,  44],\n",
       "       [ 67,  39,  85,  27,  34],\n",
       "       [115,  69, 146,  37,  47],\n",
       "       [111,  77, 145,  56,  64]])"
      ]
     },
     "execution_count": 107,
     "metadata": {},
     "output_type": "execute_result"
    }
   ],
   "source": [
    "#Since we've flipped the sides, our shapes should align now\n",
    "\n",
    "mat3 = np.dot(mat1, mat2.T)\n",
    "mat3"
   ]
  },
  {
   "cell_type": "code",
   "execution_count": 108,
   "id": "80cc493c-d5cb-4ee2-ba53-5087958febf8",
   "metadata": {},
   "outputs": [
    {
     "data": {
      "text/plain": [
       "(5, 5)"
      ]
     },
     "execution_count": 108,
     "metadata": {},
     "output_type": "execute_result"
    }
   ],
   "source": [
    "mat3.shape #checking the shape of mat3 after transposing the mat2 array and assigned it np.mat(ma1, mat2.T)"
   ]
  },
  {
   "cell_type": "code",
   "execution_count": 109,
   "id": "9d936992",
   "metadata": {},
   "outputs": [],
   "source": [
    "#### Key takeway for dot product: It's just another tool to find patterns between 2 different arrays of numbers."
   ]
  },
  {
   "cell_type": "markdown",
   "id": "504a046b",
   "metadata": {},
   "source": [
    "### Dot Product Example *(Nut butter sales)*  #Excercise: "
   ]
  },
  {
   "cell_type": "code",
   "execution_count": 110,
   "id": "bfb740a6",
   "metadata": {},
   "outputs": [
    {
     "data": {
      "text/plain": [
       "array([[12, 15,  0],\n",
       "       [ 3,  3,  7],\n",
       "       [ 9, 19, 18],\n",
       "       [ 4,  6, 12],\n",
       "       [ 1,  6,  7]])"
      ]
     },
     "execution_count": 110,
     "metadata": {},
     "output_type": "execute_result"
    }
   ],
   "source": [
    "np.random.seed(0)\n",
    "# Number of jars sold\n",
    "sales_amounts = np.random.randint(20, size = (5, 3))\n",
    "sales_amounts"
   ]
  },
  {
   "cell_type": "code",
   "execution_count": 112,
   "id": "abb5826b",
   "metadata": {},
   "outputs": [
    {
     "data": {
      "text/html": [
       "<div>\n",
       "<style scoped>\n",
       "    .dataframe tbody tr th:only-of-type {\n",
       "        vertical-align: middle;\n",
       "    }\n",
       "\n",
       "    .dataframe tbody tr th {\n",
       "        vertical-align: top;\n",
       "    }\n",
       "\n",
       "    .dataframe thead th {\n",
       "        text-align: right;\n",
       "    }\n",
       "</style>\n",
       "<table border=\"1\" class=\"dataframe\">\n",
       "  <thead>\n",
       "    <tr style=\"text-align: right;\">\n",
       "      <th></th>\n",
       "      <th>Almond Butter</th>\n",
       "      <th>Peanut Butter</th>\n",
       "      <th>Cashew Butter</th>\n",
       "    </tr>\n",
       "  </thead>\n",
       "  <tbody>\n",
       "    <tr>\n",
       "      <th>Mon</th>\n",
       "      <td>12</td>\n",
       "      <td>15</td>\n",
       "      <td>0</td>\n",
       "    </tr>\n",
       "    <tr>\n",
       "      <th>Tues</th>\n",
       "      <td>3</td>\n",
       "      <td>3</td>\n",
       "      <td>7</td>\n",
       "    </tr>\n",
       "    <tr>\n",
       "      <th>Wed</th>\n",
       "      <td>9</td>\n",
       "      <td>19</td>\n",
       "      <td>18</td>\n",
       "    </tr>\n",
       "    <tr>\n",
       "      <th>Thurs</th>\n",
       "      <td>4</td>\n",
       "      <td>6</td>\n",
       "      <td>12</td>\n",
       "    </tr>\n",
       "    <tr>\n",
       "      <th>Fri</th>\n",
       "      <td>1</td>\n",
       "      <td>6</td>\n",
       "      <td>7</td>\n",
       "    </tr>\n",
       "  </tbody>\n",
       "</table>\n",
       "</div>"
      ],
      "text/plain": [
       "       Almond Butter  Peanut Butter  Cashew Butter\n",
       "Mon               12             15              0\n",
       "Tues               3              3              7\n",
       "Wed                9             19             18\n",
       "Thurs              4              6             12\n",
       "Fri                1              6              7"
      ]
     },
     "execution_count": 112,
     "metadata": {},
     "output_type": "execute_result"
    }
   ],
   "source": [
    "# Create weekly_sales DataFrame\n",
    "weekly_sales = pd.DataFrame(sales_amounts, index=[\"Mon\", \"Tues\", \"Wed\", \"Thurs\", \"Fri\"], columns=[\"Almond Butter\", \"Peanut Butter\", \"Cashew Butter\"])\n",
    "weekly_sales"
   ]
  },
  {
   "cell_type": "code",
   "execution_count": 114,
   "id": "d8340ad0",
   "metadata": {},
   "outputs": [
    {
     "ename": "NameError",
     "evalue": "name 'prices' is not defined",
     "output_type": "error",
     "traceback": [
      "\u001b[0;31m---------------------------------------------------------------------------\u001b[0m",
      "\u001b[0;31mNameError\u001b[0m                                 Traceback (most recent call last)",
      "Cell \u001b[0;32mIn[114], line 1\u001b[0m\n\u001b[0;32m----> 1\u001b[0m prices\u001b[38;5;241m.\u001b[39mshape\n",
      "\u001b[0;31mNameError\u001b[0m: name 'prices' is not defined"
     ]
    }
   ],
   "source": [
    "prices.shape #it's not aligned with weekly_sales shape, it's a wierd thing in numpy. We can fix it by reshaping it."
   ]
  },
  {
   "cell_type": "code",
   "execution_count": 115,
   "id": "b1d38348-206e-4e24-95d9-0ef43ade1d3a",
   "metadata": {},
   "outputs": [
    {
     "data": {
      "text/plain": [
       "array([10,  8, 12])"
      ]
     },
     "execution_count": 115,
     "metadata": {},
     "output_type": "execute_result"
    }
   ],
   "source": [
    "# Create prices array\n",
    "prices = np.array([10, 8, 12])\n",
    "prices"
   ]
  },
  {
   "cell_type": "code",
   "execution_count": 116,
   "id": "87422d12-e4ea-45d9-a07d-60ebbd689f85",
   "metadata": {},
   "outputs": [
    {
     "data": {
      "text/html": [
       "<div>\n",
       "<style scoped>\n",
       "    .dataframe tbody tr th:only-of-type {\n",
       "        vertical-align: middle;\n",
       "    }\n",
       "\n",
       "    .dataframe tbody tr th {\n",
       "        vertical-align: top;\n",
       "    }\n",
       "\n",
       "    .dataframe thead th {\n",
       "        text-align: right;\n",
       "    }\n",
       "</style>\n",
       "<table border=\"1\" class=\"dataframe\">\n",
       "  <thead>\n",
       "    <tr style=\"text-align: right;\">\n",
       "      <th></th>\n",
       "      <th>Almond Butter</th>\n",
       "      <th>Peanut Butter</th>\n",
       "      <th>Cashew Butter</th>\n",
       "    </tr>\n",
       "  </thead>\n",
       "  <tbody>\n",
       "    <tr>\n",
       "      <th>Price</th>\n",
       "      <td>10</td>\n",
       "      <td>8</td>\n",
       "      <td>12</td>\n",
       "    </tr>\n",
       "  </tbody>\n",
       "</table>\n",
       "</div>"
      ],
      "text/plain": [
       "       Almond Butter  Peanut Butter  Cashew Butter\n",
       "Price             10              8             12"
      ]
     },
     "execution_count": 116,
     "metadata": {},
     "output_type": "execute_result"
    }
   ],
   "source": [
    "# Create butter_prices DataFrame\n",
    "button_prices = pd.DataFrame(prices.reshape(1, 3), index = [\"Price\"], columns = [\"Almond Butter\", \"Peanut Butter\", \"Cashew Butter\"])\n",
    "button_prices"
   ]
  },
  {
   "cell_type": "code",
   "execution_count": 117,
   "id": "8cec81b9",
   "metadata": {},
   "outputs": [
    {
     "data": {
      "text/plain": [
       "(3,)"
      ]
     },
     "execution_count": 117,
     "metadata": {},
     "output_type": "execute_result"
    }
   ],
   "source": [
    "prices.shape"
   ]
  },
  {
   "cell_type": "code",
   "execution_count": 118,
   "id": "144b56cb",
   "metadata": {},
   "outputs": [
    {
     "data": {
      "text/plain": [
       "(5, 3)"
      ]
     },
     "execution_count": 118,
     "metadata": {},
     "output_type": "execute_result"
    }
   ],
   "source": [
    "sales_amounts.shape #checking the shape of sales_amounts because we need to align it with prices shape to get the results, it's giving errors for not being aligned."
   ]
  },
  {
   "cell_type": "code",
   "execution_count": 119,
   "id": "1db37dec",
   "metadata": {},
   "outputs": [
    {
     "ename": "ValueError",
     "evalue": "shapes (3,) and (5,3) not aligned: 3 (dim 0) != 5 (dim 0)",
     "output_type": "error",
     "traceback": [
      "\u001b[0;31m---------------------------------------------------------------------------\u001b[0m",
      "\u001b[0;31mValueError\u001b[0m                                Traceback (most recent call last)",
      "Cell \u001b[0;32mIn[119], line 1\u001b[0m\n\u001b[0;32m----> 1\u001b[0m total_sales \u001b[38;5;241m=\u001b[39m prices\u001b[38;5;241m.\u001b[39mdot(sales_amounts)\n",
      "\u001b[0;31mValueError\u001b[0m: shapes (3,) and (5,3) not aligned: 3 (dim 0) != 5 (dim 0)"
     ]
    }
   ],
   "source": [
    "total_sales = prices.dot(sales_amounts) #It's not aligned properly"
   ]
  },
  {
   "cell_type": "code",
   "execution_count": 120,
   "id": "545b2f70",
   "metadata": {},
   "outputs": [
    {
     "data": {
      "text/plain": [
       "array([240, 138, 458, 232, 142])"
      ]
     },
     "execution_count": 120,
     "metadata": {},
     "output_type": "execute_result"
    }
   ],
   "source": [
    "# Shapes are  not aligned, let's transpose, reshape and try again. \n",
    "total_sales = prices.dot(sales_amounts.T) #it's not aligned properly, so we are going to transpose it and reshape it to get the results\n",
    "total_sales"
   ]
  },
  {
   "cell_type": "code",
   "execution_count": 121,
   "id": "db79442d",
   "metadata": {},
   "outputs": [
    {
     "data": {
      "text/plain": [
       "((1, 3), (5, 3))"
      ]
     },
     "execution_count": 121,
     "metadata": {},
     "output_type": "execute_result"
    }
   ],
   "source": [
    "# Create daily_sales within the pandas DataFrame, so we can add the 2 dataframes together.\n",
    "button_prices.shape, weekly_sales.shape"
   ]
  },
  {
   "cell_type": "code",
   "execution_count": 122,
   "id": "d4ac125d",
   "metadata": {},
   "outputs": [
    {
     "data": {
      "text/html": [
       "<div>\n",
       "<style scoped>\n",
       "    .dataframe tbody tr th:only-of-type {\n",
       "        vertical-align: middle;\n",
       "    }\n",
       "\n",
       "    .dataframe tbody tr th {\n",
       "        vertical-align: top;\n",
       "    }\n",
       "\n",
       "    .dataframe thead th {\n",
       "        text-align: right;\n",
       "    }\n",
       "</style>\n",
       "<table border=\"1\" class=\"dataframe\">\n",
       "  <thead>\n",
       "    <tr style=\"text-align: right;\">\n",
       "      <th></th>\n",
       "      <th>Almond Butter</th>\n",
       "      <th>Peanut Butter</th>\n",
       "      <th>Cashew Butter</th>\n",
       "    </tr>\n",
       "  </thead>\n",
       "  <tbody>\n",
       "    <tr>\n",
       "      <th>Mon</th>\n",
       "      <td>12</td>\n",
       "      <td>15</td>\n",
       "      <td>0</td>\n",
       "    </tr>\n",
       "    <tr>\n",
       "      <th>Tues</th>\n",
       "      <td>3</td>\n",
       "      <td>3</td>\n",
       "      <td>7</td>\n",
       "    </tr>\n",
       "    <tr>\n",
       "      <th>Wed</th>\n",
       "      <td>9</td>\n",
       "      <td>19</td>\n",
       "      <td>18</td>\n",
       "    </tr>\n",
       "    <tr>\n",
       "      <th>Thurs</th>\n",
       "      <td>4</td>\n",
       "      <td>6</td>\n",
       "      <td>12</td>\n",
       "    </tr>\n",
       "    <tr>\n",
       "      <th>Fri</th>\n",
       "      <td>1</td>\n",
       "      <td>6</td>\n",
       "      <td>7</td>\n",
       "    </tr>\n",
       "  </tbody>\n",
       "</table>\n",
       "</div>"
      ],
      "text/plain": [
       "       Almond Butter  Peanut Butter  Cashew Butter\n",
       "Mon               12             15              0\n",
       "Tues               3              3              7\n",
       "Wed                9             19             18\n",
       "Thurs              4              6             12\n",
       "Fri                1              6              7"
      ]
     },
     "execution_count": 122,
     "metadata": {},
     "output_type": "execute_result"
    }
   ],
   "source": [
    "weekly_sales # we are going to combine weekly_sales and button_prices to get the total_sales"
   ]
  },
  {
   "cell_type": "code",
   "execution_count": 123,
   "id": "647c883f",
   "metadata": {},
   "outputs": [
    {
     "data": {
      "text/plain": [
       "(3, 5)"
      ]
     },
     "execution_count": 123,
     "metadata": {},
     "output_type": "execute_result"
    }
   ],
   "source": [
    "weekly_sales= weekly_sales.T.shape #transposing the weekly_sales to align it with button_prices\n",
    "weekly_sales"
   ]
  },
  {
   "cell_type": "code",
   "execution_count": 124,
   "id": "1ec56d88",
   "metadata": {},
   "outputs": [
    {
     "data": {
      "text/html": [
       "<div>\n",
       "<style scoped>\n",
       "    .dataframe tbody tr th:only-of-type {\n",
       "        vertical-align: middle;\n",
       "    }\n",
       "\n",
       "    .dataframe tbody tr th {\n",
       "        vertical-align: top;\n",
       "    }\n",
       "\n",
       "    .dataframe thead th {\n",
       "        text-align: right;\n",
       "    }\n",
       "</style>\n",
       "<table border=\"1\" class=\"dataframe\">\n",
       "  <thead>\n",
       "    <tr style=\"text-align: right;\">\n",
       "      <th></th>\n",
       "      <th>Mon</th>\n",
       "      <th>Tues</th>\n",
       "      <th>Wed</th>\n",
       "      <th>Thurs</th>\n",
       "      <th>Fri</th>\n",
       "    </tr>\n",
       "  </thead>\n",
       "  <tbody>\n",
       "    <tr>\n",
       "      <th>Price</th>\n",
       "      <td>240</td>\n",
       "      <td>138</td>\n",
       "      <td>458</td>\n",
       "      <td>232</td>\n",
       "      <td>142</td>\n",
       "    </tr>\n",
       "  </tbody>\n",
       "</table>\n",
       "</div>"
      ],
      "text/plain": [
       "       Mon  Tues  Wed  Thurs  Fri\n",
       "Price  240   138  458    232  142"
      ]
     },
     "execution_count": 124,
     "metadata": {},
     "output_type": "execute_result"
    }
   ],
   "source": [
    "weekly_sales = pd.DataFrame(sales_amounts, index=[\"Mon\", \"Tues\", \"Wed\", \"Thurs\", \"Fri\"], columns=[\"Almond Butter\", \"Peanut Butter\", \"Cashew Butter\"])\n",
    "daily_sales = button_prices.dot(weekly_sales.T)\n",
    "daily_sales"
   ]
  },
  {
   "cell_type": "code",
   "execution_count": 125,
   "id": "8474ce20",
   "metadata": {},
   "outputs": [
    {
     "data": {
      "text/html": [
       "<div>\n",
       "<style scoped>\n",
       "    .dataframe tbody tr th:only-of-type {\n",
       "        vertical-align: middle;\n",
       "    }\n",
       "\n",
       "    .dataframe tbody tr th {\n",
       "        vertical-align: top;\n",
       "    }\n",
       "\n",
       "    .dataframe thead th {\n",
       "        text-align: right;\n",
       "    }\n",
       "</style>\n",
       "<table border=\"1\" class=\"dataframe\">\n",
       "  <thead>\n",
       "    <tr style=\"text-align: right;\">\n",
       "      <th></th>\n",
       "      <th>Almond Butter</th>\n",
       "      <th>Peanut Butter</th>\n",
       "      <th>Cashew Butter</th>\n",
       "      <th>Total ($)</th>\n",
       "    </tr>\n",
       "  </thead>\n",
       "  <tbody>\n",
       "    <tr>\n",
       "      <th>Mon</th>\n",
       "      <td>12</td>\n",
       "      <td>15</td>\n",
       "      <td>0</td>\n",
       "      <td>240</td>\n",
       "    </tr>\n",
       "    <tr>\n",
       "      <th>Tues</th>\n",
       "      <td>3</td>\n",
       "      <td>3</td>\n",
       "      <td>7</td>\n",
       "      <td>138</td>\n",
       "    </tr>\n",
       "    <tr>\n",
       "      <th>Wed</th>\n",
       "      <td>9</td>\n",
       "      <td>19</td>\n",
       "      <td>18</td>\n",
       "      <td>458</td>\n",
       "    </tr>\n",
       "    <tr>\n",
       "      <th>Thurs</th>\n",
       "      <td>4</td>\n",
       "      <td>6</td>\n",
       "      <td>12</td>\n",
       "      <td>232</td>\n",
       "    </tr>\n",
       "    <tr>\n",
       "      <th>Fri</th>\n",
       "      <td>1</td>\n",
       "      <td>6</td>\n",
       "      <td>7</td>\n",
       "      <td>142</td>\n",
       "    </tr>\n",
       "  </tbody>\n",
       "</table>\n",
       "</div>"
      ],
      "text/plain": [
       "       Almond Butter  Peanut Butter  Cashew Butter  Total ($)\n",
       "Mon               12             15              0        240\n",
       "Tues               3              3              7        138\n",
       "Wed                9             19             18        458\n",
       "Thurs              4              6             12        232\n",
       "Fri                1              6              7        142"
      ]
     },
     "execution_count": 125,
     "metadata": {},
     "output_type": "execute_result"
    }
   ],
   "source": [
    "weekly_sales[\"Total ($)\"] = daily_sales.T # weekly_sales was row before and we're converting it to a column to add it to the table below on the right side\n",
    "weekly_sales"
   ]
  },
  {
   "cell_type": "code",
   "execution_count": null,
   "id": "b8f64466",
   "metadata": {},
   "outputs": [],
   "source": []
  },
  {
   "cell_type": "code",
   "execution_count": null,
   "id": "2da4beea",
   "metadata": {},
   "outputs": [],
   "source": []
  },
  {
   "cell_type": "code",
   "execution_count": null,
   "id": "ec7df52d",
   "metadata": {},
   "outputs": [],
   "source": []
  },
  {
   "cell_type": "code",
   "execution_count": null,
   "id": "d1e3434b",
   "metadata": {},
   "outputs": [],
   "source": []
  },
  {
   "cell_type": "code",
   "execution_count": null,
   "id": "ee050cd9",
   "metadata": {},
   "outputs": [],
   "source": []
  },
  {
   "cell_type": "code",
   "execution_count": null,
   "id": "ea75c01b",
   "metadata": {},
   "outputs": [],
   "source": []
  },
  {
   "cell_type": "code",
   "execution_count": null,
   "id": "9d1c3bda",
   "metadata": {},
   "outputs": [],
   "source": []
  },
  {
   "cell_type": "code",
   "execution_count": null,
   "id": "f0c42cfa",
   "metadata": {},
   "outputs": [],
   "source": []
  },
  {
   "cell_type": "code",
   "execution_count": null,
   "id": "3f03796f",
   "metadata": {},
   "outputs": [],
   "source": []
  },
  {
   "cell_type": "code",
   "execution_count": null,
   "id": "052b564b",
   "metadata": {},
   "outputs": [],
   "source": []
  }
 ],
 "metadata": {
  "kernelspec": {
   "display_name": "Python 3 (ipykernel)",
   "language": "python",
   "name": "python3"
  },
  "language_info": {
   "codemirror_mode": {
    "name": "ipython",
    "version": 3
   },
   "file_extension": ".py",
   "mimetype": "text/x-python",
   "name": "python",
   "nbconvert_exporter": "python",
   "pygments_lexer": "ipython3",
   "version": "3.12.9"
  }
 },
 "nbformat": 4,
 "nbformat_minor": 5
}
